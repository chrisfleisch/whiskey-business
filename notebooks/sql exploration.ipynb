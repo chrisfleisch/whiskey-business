{
 "cells": [
  {
   "cell_type": "code",
   "execution_count": 1,
   "metadata": {
    "collapsed": true
   },
   "outputs": [],
   "source": [
    "from pyspark.sql import HiveContext\n",
    "sqlContext = HiveContext(sc)"
   ]
  },
  {
   "cell_type": "code",
   "execution_count": 10,
   "metadata": {
    "collapsed": false
   },
   "outputs": [
    {
     "name": "stdout",
     "output_type": "stream",
     "text": [
      "+--------------------+-----------+\n",
      "|           tableName|isTemporary|\n",
      "+--------------------+-----------+\n",
      "|    altredditarchive|      false|\n",
      "|altredditarchive_raw|      false|\n",
      "|         altvaprices|      false|\n",
      "|     altvaprices_raw|      false|\n",
      "|        bike_seasons|      false|\n",
      "|      bike_share_raw|      false|\n",
      "|       complications|      false|\n",
      "|      effective_care|      false|\n",
      "|                 foo|      false|\n",
      "|           hospitals|      false|\n",
      "|          infections|      false|\n",
      "|            measures|      false|\n",
      "|          metacritic|      false|\n",
      "|      metacritic_raw|      false|\n",
      "|metacriticwhiskyd...|      false|\n",
      "|metacriticwhiskyd...|      false|\n",
      "|             my_care|      false|\n",
      "|my_combined_proce...|      false|\n",
      "|    my_complications|      false|\n",
      "|        my_hospitals|      false|\n",
      "|       my_infections|      false|\n",
      "|     my_readmissions|      false|\n",
      "|    my_survey_scores|      false|\n",
      "|               proof|      false|\n",
      "|           proof_raw|      false|\n",
      "|        readmissions|      false|\n",
      "|       redditarchive|      false|\n",
      "|   redditarchive_raw|      false|\n",
      "|      reddit_bottles|      false|\n",
      "|redditwhiskynetwo...|      false|\n",
      "|redditwhiskynetwo...|      false|\n",
      "|             seasons|      false|\n",
      "|            stadiums|      false|\n",
      "|   surveys_responses|      false|\n",
      "|           user_info|      false|\n",
      "|         vapricelist|      false|\n",
      "|     vapricelist_raw|      false|\n",
      "|            vaprices|      false|\n",
      "|        vaprices_raw|      false|\n",
      "|             weather|      false|\n",
      "|        weblogs_flat|      false|\n",
      "|     weblogs_parquet|      false|\n",
      "|      weblogs_schema|      false|\n",
      "|     web_session_log|      false|\n",
      "|    whiskey_business|      false|\n",
      "+--------------------+-----------+\n",
      "\n"
     ]
    }
   ],
   "source": [
    "sqlContext.sql(\"show tables\").show(100)"
   ]
  },
  {
   "cell_type": "code",
   "execution_count": 3,
   "metadata": {
    "collapsed": false
   },
   "outputs": [
    {
     "name": "stdout",
     "output_type": "stream",
     "text": [
      "+--------------------+--------+\n",
      "|            altbrand|altprice|\n",
      "+--------------------+--------+\n",
      "|     1792 full proof|   47.99|\n",
      "|    1792 finish port|   42.99|\n",
      "|  1792 barrel single|   42.99|\n",
      "|    1792 batch small|   33.99|\n",
      "|    1792 sweet wheat|   39.99|\n",
      "|abraham bowman co...|   39.99|\n",
      "|abraham bowman ed...|   69.99|\n",
      "|         age ancient|    6.49|\n",
      "|         age ancient|   12.99|\n",
      "|         age ancient|   14.99|\n",
      "|         age ancient|   26.99|\n",
      "|age ancient traveler|   12.99|\n",
      "| age ancient ancient|   16.99|\n",
      "| age ancient ancient|   28.99|\n",
      "|angel barrel envy...|   49.99|\n",
      "|               baker|   49.99|\n",
      "|         barterhouse|   75.99|\n",
      "|        basil hayden|   43.99|\n",
      "|         belle meade|   41.99|\n",
      "|belle finish mead...|   85.29|\n",
      "+--------------------+--------+\n",
      "only showing top 20 rows\n",
      "\n"
     ]
    }
   ],
   "source": [
    "sql = \"\"\"\n",
    "SELECT altbrand, altprice from vaprices\n",
    "\"\"\"\n",
    "sqlContext.sql(sql).show()"
   ]
  },
  {
   "cell_type": "code",
   "execution_count": 4,
   "metadata": {
    "collapsed": false
   },
   "outputs": [
    {
     "name": "stdout",
     "output_type": "stream",
     "text": [
      "+--------------------+--------------+------+\n",
      "|            altbrand|altbottleprice|rating|\n",
      "+--------------------+--------------+------+\n",
      "|          100 pipers|          null|    68|\n",
      "|11 13 minnesota w...|          30.0|    75|\n",
      "|     1792 full proof|          null|    85|\n",
      "|     1792 full proof|          50.0|    87|\n",
      "|     1792 full proof|          45.0|    80|\n",
      "|       1792 high rye|          36.0|    86|\n",
      "|    1792 finish port|          null|    79|\n",
      "|    1792 finish port|          38.0|    83|\n",
      "|    1792 finish port|          42.0|    76|\n",
      "|    1792 finish port|          49.0|    75|\n",
      "|    1792 finish port|          40.0|    84|\n",
      "|1792 reserve ridg...|          19.0|    83|\n",
      "|1792 reserve ridg...|          null|    88|\n",
      "|1792 reserve ridg...|          27.0|    84|\n",
      "|1792 reserve ridg...|      40.45853|    85|\n",
      "|1792 reserve ridg...|          42.0|    64|\n",
      "|1792 reserve ridg...|          39.0|    88|\n",
      "|1792 reserve ridg...|          21.0|    74|\n",
      "|1792 reserve ridg...|          29.0|    86|\n",
      "|1792 reserve ridg...|          30.0|    71|\n",
      "+--------------------+--------------+------+\n",
      "only showing top 20 rows\n",
      "\n"
     ]
    }
   ],
   "source": [
    "sql = \"\"\"\n",
    "SELECT altbrand, altbottleprice, rating from redditarchive\n",
    "\"\"\"\n",
    "sqlContext.sql(sql).show()"
   ]
  },
  {
   "cell_type": "code",
   "execution_count": 5,
   "metadata": {
    "collapsed": false
   },
   "outputs": [
    {
     "name": "stdout",
     "output_type": "stream",
     "text": [
      "+--------------------+------------------+-----------------+------------------+\n",
      "|            altbrand|    avgbottleprice|        avgrating|           vaprice|\n",
      "+--------------------+------------------+-----------------+------------------+\n",
      "|        25 laphroaig|              null|             95.0|  499.989990234375|\n",
      "|         30 caol ila| 561.9240112304688|93.33333333333333|  799.989990234375|\n",
      "|james jesse original|              18.0|             93.0| 19.09000015258789|\n",
      "|         elmer lee t|              40.0|             93.0|  35.9900016784668|\n",
      "|15 family pappy r...|147.35714285714286|92.04761904761905| 99.98999786376953|\n",
      "|catoctin creek ro...|              53.0|             92.0| 45.09000015258789|\n",
      "|2015 edition four...|              null|             92.0| 97.38999938964844|\n",
      "|2016 batch editio...|             140.0|             92.0| 97.38999938964844|\n",
      "|          booker rye|             299.5|            91.25|  299.989990234375|\n",
      "|         25 talisker|194.20315551757812|91.15384615384616|  659.989990234375|\n",
      "|        12 lagavulin| 99.96699755119555|90.57627118644068|128.99000549316406|\n",
      "|    25 highland park|251.89620056152344|            90.45|  799.989990234375|\n",
      "|10 old rip van wi...| 56.97748020717076|90.29166666666667|  59.9900016784668|\n",
      "| ardbeg corryvreckan| 85.40789015749668|90.04938271604938| 84.98999786376953|\n",
      "|edition fire high...|              null|             90.0|  399.989990234375|\n",
      "|  1 edition macallan|              95.0|            89.75| 99.98999786376953|\n",
      "|cask laphroaig qu...|56.195293283908164|89.51851851851852|  59.9900016784668|\n",
      "|        18 laphroaig| 93.06942961936774|89.42857142857143|109.98999786376953|\n",
      "|      angel envy rye|            73.875|89.18181818181819| 79.98999786376953|\n",
      "|1776 e. james pep...|              25.0|             89.0|29.889999389648438|\n",
      "+--------------------+------------------+-----------------+------------------+\n",
      "only showing top 20 rows\n",
      "\n"
     ]
    }
   ],
   "source": [
    "sql = \"\"\"\n",
    "SELECT a.altbrand, avg(altbottleprice) as avgbottleprice, avg(rating) as avgrating, avg(p.altprice) as vaprice\n",
    "from redditarchive a join vaprices p on a.altbrand = p.altbrand\n",
    "group by a.altbrand order by avgrating desc\n",
    "\"\"\"\n",
    "sqlContext.sql(sql).show()"
   ]
  },
  {
   "cell_type": "code",
   "execution_count": 6,
   "metadata": {
    "collapsed": false
   },
   "outputs": [
    {
     "name": "stdout",
     "output_type": "stream",
     "text": [
      "+--------------------+-----------------+------------------+------------+-----------------+\n",
      "|            altbrand|    reddit_rating|           vaprice|proof_rating|      meta_rating|\n",
      "+--------------------+-----------------+------------------+------------+-----------------+\n",
      "|     12 bunnahabhain|85.66666666666667| 69.98999786376953|       574.0|8.579999923706055|\n",
      "|   black crown royal|             76.4| 31.29000096321106|       579.0|8.199999809265137|\n",
      "|          12 tomatin|75.60606060606061|  36.9900016784668|       627.0|7.869999885559082|\n",
      "|barrel crown hand...|             83.0|  54.9900016784668|       689.0|8.819999694824219|\n",
      "|      storm talisker|            83.35|  59.9900016784668|       631.0|8.609999656677246|\n",
      "|                 man|             76.0|  49.9900016784668|       561.0|7.889999866485596|\n",
      "|     18 chivas regal|             76.0| 79.98999786376953|       617.0|8.199999809265137|\n",
      "|breed rare turkey...| 87.1891891891892|28.390000581741333|       653.0|8.739999771118164|\n",
      "| ardbeg corryvreckan|90.04938271604938| 84.98999786376953|       613.0| 9.09000015258789|\n",
      "|    1792 finish port|             79.4|  42.9900016784668|       603.0|8.460000038146973|\n",
      "|cask laphroaig qu...|89.51851851851852|  59.9900016784668|       529.0|9.029999732971191|\n",
      "|green johnnie walker|83.70769230769231|  61.9900016784668|       536.0|8.520000457763672|\n",
      "|      12 glenfiddich|77.17073170731707| 43.99000072479248|       511.0|8.079999923706055|\n",
      "|          rebel yell|             70.0|21.489999771118164|       612.0|7.449999809265137|\n",
      "|        8 islay mist|             83.0|25.899999618530273|        -1.0|7.909999847412109|\n",
      "|             jameson| 70.4090909090909|29.490000581741334|       474.0|7.820000171661377|\n",
      "|      harmony hibiki|             73.0| 64.98999786376953|       615.0| 8.40999984741211|\n",
      "|         30 talisker|88.16666666666667|  889.989990234375|        -1.0|9.199999809265137|\n",
      "|          12 dalmore|77.54054054054055| 69.98999786376953|       576.0|8.430000305175781|\n",
      "|   dickel george rye|78.33333333333333|28.989999771118164|       685.0|8.520000457763672|\n",
      "+--------------------+-----------------+------------------+------------+-----------------+\n",
      "only showing top 20 rows\n",
      "\n"
     ]
    }
   ],
   "source": [
    "sql = \"\"\"\n",
    "SELECT a.altbrand, avg(a.rating) as reddit_rating, avg(p.altprice) as vaprice, \n",
    "avg(proof.rating) as proof_rating, avg(m.metacritic) as meta_rating\n",
    "from redditarchive a join vaprices p on a.altbrand = p.altbrand join proof on a.altbrand = proof.altbrand \n",
    "join metacritic m on a.altbrand = m.altbrand\n",
    "group by a.altbrand\n",
    "\"\"\"\n",
    "sqlContext.sql(sql).show()"
   ]
  },
  {
   "cell_type": "code",
   "execution_count": 11,
   "metadata": {
    "collapsed": false
   },
   "outputs": [
    {
     "name": "stdout",
     "output_type": "stream",
     "text": [
      "+--------------------+---------+-----------------+-----------------+--------+-------------------+\n",
      "|               brand|     size|       avg_rating|     critic_score|altprice|       price_per_oz|\n",
      "+--------------------+---------+-----------------+-----------------+--------+-------------------+\n",
      "|   (ri)1 Rye Whiskey|25.360113|             null|             null|   39.99| 1.5768857753717413|\n",
      "|13th Colony South...|25.360113|             null|             null|   29.95|  1.180988451943039|\n",
      "|1792 Bourbon Full...|25.360113|             84.0|8.949999809265137|   47.99| 1.8923417812104886|\n",
      "|       1792 High Rye|25.360113|             86.0|             null|   39.99| 1.5768857753717413|\n",
      "|1792 Port Finish ...|25.360113|             79.4|8.460000038146973|   42.99| 1.6951817775612716|\n",
      "|1792 Single Barre...|25.360113|             null|8.600000381469727|   42.99| 1.6951817775612716|\n",
      "|1792 Small Batch ...|25.360113|             78.2|             null|   33.99|  1.340293770992681|\n",
      "|1792 Sweet Wheat ...|25.360113|           81.875|8.670000076293945|   39.99| 1.5768857753717413|\n",
      "|2 Gingers Irish W...|1.6906742|             null|8.039999961853027|    2.49| 1.4727852536696355|\n",
      "|2 Gingers Irish W...|25.360113|             null|8.039999961853027|   17.99|  0.709381684104614|\n",
      "|Aberlour 12 Year ...|25.360113|             null|             null|   59.99| 2.3655257899686095|\n",
      "|Aberlour 16 Year ...|25.360113|85.29629629629629|             null|   84.99|  3.351325657793549|\n",
      "|Abraham Bowman Gi...|12.680057|             null|             null|   39.99| 3.1537715507434827|\n",
      "|Abraham Bowman Wh...|25.360113|             null|             null|   69.99|  2.759845646845898|\n",
      "|Alberta Dark Batc...|25.360113|             null|8.600000381469727|   29.99| 1.1825656928627348|\n",
      "| Ancient Age Bourbon|12.680057|76.33333333333333|             null|    6.49| 0.5118273514228299|\n",
      "| Ancient Age Bourbon|25.360113|76.33333333333333|             null|   12.99|  0.512221680455397|\n",
      "| Ancient Age Bourbon|33.813484|76.33333333333333|             null|   14.99|0.44331426143631286|\n",
      "| Ancient Age Bourbon|  59.1736|76.33333333333333|             null|   26.99|0.45611556701506784|\n",
      "|Ancient Age Traveler|25.360113|             null|             null|   12.99|  0.512221680455397|\n",
      "+--------------------+---------+-----------------+-----------------+--------+-------------------+\n",
      "only showing top 20 rows\n",
      "\n"
     ]
    }
   ],
   "source": [
    "sql = \"\"\"\n",
    "select * from whiskey_business\n",
    "\"\"\"\n",
    "\n",
    "sqlContext.sql(sql).show()"
   ]
  },
  {
   "cell_type": "code",
   "execution_count": 12,
   "metadata": {
    "collapsed": false
   },
   "outputs": [
    {
     "name": "stdout",
     "output_type": "stream",
     "text": [
      "+--------------------+-----------------+-----------+\n",
      "|            altbrand|       avg_rating|num_reviews|\n",
      "+--------------------+-----------------+-----------+\n",
      "|\" \"island malt ma...|             76.5|          2|\n",
      "|\"a 3.228 bowmore ...|             84.0|          1|\n",
      "|\"bathed 13 5.42: ...|             84.0|          2|\n",
      "|\"bathed 5.42 a au...|             81.0|          1|\n",
      "|\"bbq 53.216 caol ...|             87.0|          1|\n",
      "|\"beachcomber 42.1...|             89.0|          1|\n",
      "|\"billowing 1997 b...|             80.0|          1|\n",
      "|\"bumblebees 26.10...|             77.0|          1|\n",
      "|\"camping 23 29.15...|             86.0|          1|\n",
      "|\"chocolate 12 bun...|             83.0|          1|\n",
      "|\"chocolate 36.96 ...|85.33333333333333|          3|\n",
      "|\"complex 85.35 ch...|             84.0|          1|\n",
      "|\"deep 19y barrel ...|             95.0|          1|\n",
      "|\"deliciously 30.9...|             89.5|          2|\n",
      "|\"dunnage 121.77 a...|             80.5|          2|\n",
      "|\"fresh, 18 3.213 ...|78.33333333333333|          3|\n",
      "|\"ginger 1996 benr...|             86.0|          1|\n",
      "|\"gritty 66.82 ard...|             83.0|          1|\n",
      "|\"guns 27.109 grou...|             88.0|          2|\n",
      "|\"heathery 30 caol...|             90.5|          2|\n",
      "+--------------------+-----------------+-----------+\n",
      "only showing top 20 rows\n",
      "\n"
     ]
    }
   ],
   "source": [
    "sql = \"\"\"\n",
    "select * from reddit_bottles\n",
    "\"\"\"\n",
    "\n",
    "sqlContext.sql(sql).show()"
   ]
  },
  {
   "cell_type": "code",
   "execution_count": null,
   "metadata": {
    "collapsed": true
   },
   "outputs": [],
   "source": []
  }
 ],
 "metadata": {
  "kernelspec": {
   "display_name": "Python 2",
   "language": "python",
   "name": "python2"
  },
  "language_info": {
   "codemirror_mode": {
    "name": "ipython",
    "version": 2
   },
   "file_extension": ".py",
   "mimetype": "text/x-python",
   "name": "python",
   "nbconvert_exporter": "python",
   "pygments_lexer": "ipython2",
   "version": "2.7.13"
  }
 },
 "nbformat": 4,
 "nbformat_minor": 2
}
