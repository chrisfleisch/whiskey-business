{
 "cells": [
  {
   "cell_type": "code",
   "execution_count": 1,
   "metadata": {
    "collapsed": true
   },
   "outputs": [],
   "source": [
    "# Import required modules\n",
    "import requests\n",
    "from bs4 import BeautifulSoup\n",
    "import csv"
   ]
  },
  {
   "cell_type": "code",
   "execution_count": 2,
   "metadata": {
    "collapsed": false
   },
   "outputs": [],
   "source": [
    "# Create a variable with the URL to this tutorial\n",
    "urls = ['http://whiskyanalysis.com/index.php/database/']\n",
    "\n",
    "r = requests.get(urls[0])"
   ]
  },
  {
   "cell_type": "code",
   "execution_count": 5,
   "metadata": {
    "collapsed": false
   },
   "outputs": [],
   "source": [
    "soup = BeautifulSoup(r.text, 'html5lib')\n",
    "\n",
    "table = soup.find_all(\"table\", {\"class\": \"igsv-table\"})\n",
    "th = table[0].select(\"th\")\n",
    "\n",
    "final_rows = []\n",
    "final_headings = []\n",
    "for cell in th:\n",
    "    final_headings.append(cell.get_text().lower().replace(' ', '_').replace('#', 'count'))\n",
    "\n",
    "final_rows.append(final_headings)\n",
    "\n",
    "rows = table[0].find_all('tbody')[0].find_all('tr')\n",
    "for row in rows:\n",
    "    td = row.select('td')\n",
    "    cells = []\n",
    "    for cell in td:\n",
    "        cells.append(cell.get_text().encode('utf-8'))\n",
    "    final_rows.append(cells)"
   ]
  },
  {
   "cell_type": "code",
   "execution_count": 4,
   "metadata": {
    "collapsed": false
   },
   "outputs": [],
   "source": [
    "with open('metacritic.csv', 'w') as f:\n",
    "    writer = csv.writer(f)\n",
    "    for row in final_rows:\n",
    "        writer.writerow(row)"
   ]
  },
  {
   "cell_type": "code",
   "execution_count": null,
   "metadata": {
    "collapsed": true
   },
   "outputs": [],
   "source": []
  }
 ],
 "metadata": {
  "anaconda-cloud": {},
  "kernelspec": {
   "display_name": "Python 3",
   "language": "python",
   "name": "python3"
  },
  "language_info": {
   "codemirror_mode": {
    "name": "ipython",
    "version": 3
   },
   "file_extension": ".py",
   "mimetype": "text/x-python",
   "name": "python",
   "nbconvert_exporter": "python",
   "pygments_lexer": "ipython3",
   "version": "3.6.0"
  }
 },
 "nbformat": 4,
 "nbformat_minor": 1
}
