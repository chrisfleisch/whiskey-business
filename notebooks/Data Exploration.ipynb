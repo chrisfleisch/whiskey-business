{
 "cells": [
  {
   "cell_type": "code",
   "execution_count": 1,
   "metadata": {
    "collapsed": false
   },
   "outputs": [],
   "source": [
    "import re\n",
    "import pandas as pd\n",
    "import numpy as np\n",
    "\n",
    "from fixerio import Fixerio\n",
    "from fuzzywuzzy import fuzz\n",
    "from fuzzywuzzy import process\n",
    "from measurement.measures import Volume"
   ]
  },
  {
   "cell_type": "code",
   "execution_count": 2,
   "metadata": {
    "collapsed": false
   },
   "outputs": [],
   "source": [
    "va_df = pd.read_csv('../data_source/va_prices.csv', skiprows=1)\n",
    "va_df.columns = va_df.columns.str.lower()"
   ]
  },
  {
   "cell_type": "code",
   "execution_count": 3,
   "metadata": {
    "collapsed": false
   },
   "outputs": [
    {
     "data": {
      "text/html": [
       "<div>\n",
       "<table border=\"1\" class=\"dataframe\">\n",
       "  <thead>\n",
       "    <tr style=\"text-align: right;\">\n",
       "      <th></th>\n",
       "      <th>description</th>\n",
       "      <th>code</th>\n",
       "      <th>brand</th>\n",
       "      <th>size</th>\n",
       "      <th>age</th>\n",
       "      <th>proof</th>\n",
       "      <th>price</th>\n",
       "    </tr>\n",
       "  </thead>\n",
       "  <tbody>\n",
       "    <tr>\n",
       "      <th>0</th>\n",
       "      <td>STRAIGHT BOURBON WHISKEY</td>\n",
       "      <td>21228</td>\n",
       "      <td>1792 Bourbon Full Proof</td>\n",
       "      <td>750ml</td>\n",
       "      <td>NaN</td>\n",
       "      <td>125.0</td>\n",
       "      <td>$47.99</td>\n",
       "    </tr>\n",
       "    <tr>\n",
       "      <th>1</th>\n",
       "      <td>STRAIGHT BOURBON WHISKEY</td>\n",
       "      <td>21232</td>\n",
       "      <td>1792 Port Finish Bourbon</td>\n",
       "      <td>750ml</td>\n",
       "      <td>NaN</td>\n",
       "      <td>88.9</td>\n",
       "      <td>$42.99</td>\n",
       "    </tr>\n",
       "    <tr>\n",
       "      <th>2</th>\n",
       "      <td>STRAIGHT BOURBON WHISKEY</td>\n",
       "      <td>21244</td>\n",
       "      <td>1792 Single Barrel Bourbon</td>\n",
       "      <td>750ml</td>\n",
       "      <td>NaN</td>\n",
       "      <td>98.6</td>\n",
       "      <td>$42.99</td>\n",
       "    </tr>\n",
       "    <tr>\n",
       "      <th>3</th>\n",
       "      <td>STRAIGHT BOURBON WHISKEY</td>\n",
       "      <td>21236</td>\n",
       "      <td>1792 Small Batch Bourbon</td>\n",
       "      <td>750ml</td>\n",
       "      <td>NaN</td>\n",
       "      <td>93.7</td>\n",
       "      <td>$33.99</td>\n",
       "    </tr>\n",
       "    <tr>\n",
       "      <th>4</th>\n",
       "      <td>STRAIGHT BOURBON WHISKEY</td>\n",
       "      <td>21242</td>\n",
       "      <td>1792 Sweet Wheat Bourbon</td>\n",
       "      <td>750ml</td>\n",
       "      <td>NaN</td>\n",
       "      <td>91.2</td>\n",
       "      <td>$39.99</td>\n",
       "    </tr>\n",
       "  </tbody>\n",
       "</table>\n",
       "</div>"
      ],
      "text/plain": [
       "                description   code                       brand   size  age  \\\n",
       "0  STRAIGHT BOURBON WHISKEY  21228     1792 Bourbon Full Proof  750ml  NaN   \n",
       "1  STRAIGHT BOURBON WHISKEY  21232    1792 Port Finish Bourbon  750ml  NaN   \n",
       "2  STRAIGHT BOURBON WHISKEY  21244  1792 Single Barrel Bourbon  750ml  NaN   \n",
       "3  STRAIGHT BOURBON WHISKEY  21236    1792 Small Batch Bourbon  750ml  NaN   \n",
       "4  STRAIGHT BOURBON WHISKEY  21242    1792 Sweet Wheat Bourbon  750ml  NaN   \n",
       "\n",
       "   proof    price  \n",
       "0  125.0  $47.99   \n",
       "1   88.9  $42.99   \n",
       "2   98.6  $42.99   \n",
       "3   93.7  $33.99   \n",
       "4   91.2  $39.99   "
      ]
     },
     "execution_count": 3,
     "metadata": {},
     "output_type": "execute_result"
    }
   ],
   "source": [
    "va_df = va_df[va_df.description.str.contains('WHISKEY') | va_df.description.str.contains('WHISKY')]\n",
    "va_df.head()"
   ]
  },
  {
   "cell_type": "code",
   "execution_count": 4,
   "metadata": {
    "collapsed": false
   },
   "outputs": [
    {
     "data": {
      "text/html": [
       "<div>\n",
       "<table border=\"1\" class=\"dataframe\">\n",
       "  <thead>\n",
       "    <tr style=\"text-align: right;\">\n",
       "      <th></th>\n",
       "      <th>code</th>\n",
       "      <th>proof</th>\n",
       "    </tr>\n",
       "  </thead>\n",
       "  <tbody>\n",
       "    <tr>\n",
       "      <th>count</th>\n",
       "      <td>871.000000</td>\n",
       "      <td>871.000000</td>\n",
       "    </tr>\n",
       "    <tr>\n",
       "      <th>mean</th>\n",
       "      <td>20912.814007</td>\n",
       "      <td>84.514696</td>\n",
       "    </tr>\n",
       "    <tr>\n",
       "      <th>std</th>\n",
       "      <td>19615.108155</td>\n",
       "      <td>13.127495</td>\n",
       "    </tr>\n",
       "    <tr>\n",
       "      <th>min</th>\n",
       "      <td>137.000000</td>\n",
       "      <td>0.000000</td>\n",
       "    </tr>\n",
       "    <tr>\n",
       "      <th>25%</th>\n",
       "      <td>6897.500000</td>\n",
       "      <td>80.000000</td>\n",
       "    </tr>\n",
       "    <tr>\n",
       "      <th>50%</th>\n",
       "      <td>17920.000000</td>\n",
       "      <td>80.000000</td>\n",
       "    </tr>\n",
       "    <tr>\n",
       "      <th>75%</th>\n",
       "      <td>26114.500000</td>\n",
       "      <td>90.000000</td>\n",
       "    </tr>\n",
       "    <tr>\n",
       "      <th>max</th>\n",
       "      <td>100124.000000</td>\n",
       "      <td>136.200000</td>\n",
       "    </tr>\n",
       "  </tbody>\n",
       "</table>\n",
       "</div>"
      ],
      "text/plain": [
       "                code       proof\n",
       "count     871.000000  871.000000\n",
       "mean    20912.814007   84.514696\n",
       "std     19615.108155   13.127495\n",
       "min       137.000000    0.000000\n",
       "25%      6897.500000   80.000000\n",
       "50%     17920.000000   80.000000\n",
       "75%     26114.500000   90.000000\n",
       "max    100124.000000  136.200000"
      ]
     },
     "execution_count": 4,
     "metadata": {},
     "output_type": "execute_result"
    }
   ],
   "source": [
    "va_df.describe()"
   ]
  },
  {
   "cell_type": "code",
   "execution_count": 5,
   "metadata": {
    "collapsed": false
   },
   "outputs": [
    {
     "data": {
      "text/plain": [
       "False"
      ]
     },
     "execution_count": 5,
     "metadata": {},
     "output_type": "execute_result"
    }
   ],
   "source": [
    "va_df.brand.isnull().any()"
   ]
  },
  {
   "cell_type": "code",
   "execution_count": 6,
   "metadata": {
    "collapsed": false
   },
   "outputs": [],
   "source": [
    "def my_va_transform(s):\n",
    "    \"\"\"Function to transform brand\n",
    "    * make lower\n",
    "    * do specific regex replacements\n",
    "    * remove product types ex: 'bourbon', 'whiskey'\n",
    "    * sort the words in the brand\n",
    "    \"\"\"\n",
    "    s = s.lower()\n",
    "    \n",
    "    replacements = {\"^gentleman jack whiskey$\": \"jack daniel's gentleman jack\",\n",
    "                    \"^pritchard\": \"prichard\",\n",
    "                    \"^balcones baby blue corn whiskey$\": \"balcones baby blue\",\n",
    "                    \"^canadian club rye whisky$\": \"canadian club\",\n",
    "                    \"^catoctin creek roundstone rye whisky$\": \"catoctin creek roundstone rye\",\n",
    "                    \"^e h taylor jr. straight rye$\": \"colonel e.h. taylor straight rye\",\n",
    "                    \"^e h taylor seasoned wood$\": \"colonel e.h. taylor seasoned wood\",\n",
    "                    \"^james e. pepper 1776 rye\": \"james e. pepper 1776 straight rye\",\n",
    "                    \"^lock stock & barrel 16 yr straight rye whiskey$\": \"lock stock and barrel 16 straight rye\",\n",
    "                    \"^michter's us 1 single barrel straight rye$\": \"michter's us*1\",\n",
    "                    \"^michter's us-1 barrel strength rye\": \"michter's barrel strength rye\",\n",
    "                    \"^old overholt$\": \"old overholt rye\",\n",
    "                    \"^wild turkey russell's reserve rye$\": \"russell's reserve rye 6\",\n",
    "                    \"\\s7\\s\": \" seven \",\n",
    "                    \"^defiant whisky$\": \"defiant\",\n",
    "                    \"^michter's us1 sour mash$\": \"michter sour mash\",\n",
    "                    \"^red stag\": \"jim beam red stag\",\n",
    "                    \"^four roses 2015 limited edition small batch$\": \"four roses limited edition 2015\",\n",
    "                    \"^four roses 2016 limited edition small batch$\": \"four roses small batch limited edition 2016\",\n",
    "                    \"^i w harper bourbon$\": \"i.w. harper\",\n",
    "                    \"^jesse james bourbon whiskey$\": \"original jesse james\",\n",
    "                    \"^the\": \" \",\n",
    "                    \"scotch$\": \" \",\n",
    "                    \"-\": \" \",\n",
    "                    }\n",
    "    for k, v in replacements.items():\n",
    "        s = re.sub(k, v, s)\n",
    "    \n",
    "    replace = ['bourbon', 'craft',\n",
    "               'Year Single Barrel Bourbon',\n",
    "               '-year Single Barrel Bourbon',\n",
    "               'whiskey', 'tennessee whiskey', 'tennessee',\n",
    "               'year', 'yr', '-year single barrel',\n",
    "               'year single barrel', 'label', \"'s\",\n",
    "               'decades', 'whisky', '&', 'single malt', \"(\", \")\",\n",
    "               \"yo\", \"no.\", \"irish\", \"’\", \"us1\",\n",
    "               ]\n",
    "    \n",
    "    for item in replace:\n",
    "        s = s.replace(item, '')\n",
    "    \n",
    "    s = s.split() # remove extra spaces betwen words and sort\n",
    "    s.sort()\n",
    "    s = \" \".join(s)\n",
    "    \n",
    "    return s.strip()"
   ]
  },
  {
   "cell_type": "code",
   "execution_count": 7,
   "metadata": {
    "collapsed": false
   },
   "outputs": [
    {
     "data": {
      "text/plain": [
       "'12 glenlivet malt single'"
      ]
     },
     "execution_count": 7,
     "metadata": {},
     "output_type": "execute_result"
    }
   ],
   "source": [
    "my_va_transform('12 glenlivet malt single')"
   ]
  },
  {
   "cell_type": "code",
   "execution_count": 8,
   "metadata": {
    "collapsed": false
   },
   "outputs": [
    {
     "data": {
      "text/html": [
       "<div>\n",
       "<table border=\"1\" class=\"dataframe\">\n",
       "  <thead>\n",
       "    <tr style=\"text-align: right;\">\n",
       "      <th></th>\n",
       "      <th>description</th>\n",
       "      <th>code</th>\n",
       "      <th>brand</th>\n",
       "      <th>size</th>\n",
       "      <th>age</th>\n",
       "      <th>proof</th>\n",
       "      <th>price</th>\n",
       "      <th>alt_brand</th>\n",
       "    </tr>\n",
       "  </thead>\n",
       "  <tbody>\n",
       "    <tr>\n",
       "      <th>0</th>\n",
       "      <td>STRAIGHT BOURBON WHISKEY</td>\n",
       "      <td>21228</td>\n",
       "      <td>1792 Bourbon Full Proof</td>\n",
       "      <td>750ml</td>\n",
       "      <td>NaN</td>\n",
       "      <td>125.0</td>\n",
       "      <td>$47.99</td>\n",
       "      <td>1792 full proof</td>\n",
       "    </tr>\n",
       "    <tr>\n",
       "      <th>1</th>\n",
       "      <td>STRAIGHT BOURBON WHISKEY</td>\n",
       "      <td>21232</td>\n",
       "      <td>1792 Port Finish Bourbon</td>\n",
       "      <td>750ml</td>\n",
       "      <td>NaN</td>\n",
       "      <td>88.9</td>\n",
       "      <td>$42.99</td>\n",
       "      <td>1792 finish port</td>\n",
       "    </tr>\n",
       "    <tr>\n",
       "      <th>2</th>\n",
       "      <td>STRAIGHT BOURBON WHISKEY</td>\n",
       "      <td>21244</td>\n",
       "      <td>1792 Single Barrel Bourbon</td>\n",
       "      <td>750ml</td>\n",
       "      <td>NaN</td>\n",
       "      <td>98.6</td>\n",
       "      <td>$42.99</td>\n",
       "      <td>1792 barrel single</td>\n",
       "    </tr>\n",
       "    <tr>\n",
       "      <th>3</th>\n",
       "      <td>STRAIGHT BOURBON WHISKEY</td>\n",
       "      <td>21236</td>\n",
       "      <td>1792 Small Batch Bourbon</td>\n",
       "      <td>750ml</td>\n",
       "      <td>NaN</td>\n",
       "      <td>93.7</td>\n",
       "      <td>$33.99</td>\n",
       "      <td>1792 batch small</td>\n",
       "    </tr>\n",
       "    <tr>\n",
       "      <th>4</th>\n",
       "      <td>STRAIGHT BOURBON WHISKEY</td>\n",
       "      <td>21242</td>\n",
       "      <td>1792 Sweet Wheat Bourbon</td>\n",
       "      <td>750ml</td>\n",
       "      <td>NaN</td>\n",
       "      <td>91.2</td>\n",
       "      <td>$39.99</td>\n",
       "      <td>1792 sweet wheat</td>\n",
       "    </tr>\n",
       "  </tbody>\n",
       "</table>\n",
       "</div>"
      ],
      "text/plain": [
       "                description   code                       brand   size  age  \\\n",
       "0  STRAIGHT BOURBON WHISKEY  21228     1792 Bourbon Full Proof  750ml  NaN   \n",
       "1  STRAIGHT BOURBON WHISKEY  21232    1792 Port Finish Bourbon  750ml  NaN   \n",
       "2  STRAIGHT BOURBON WHISKEY  21244  1792 Single Barrel Bourbon  750ml  NaN   \n",
       "3  STRAIGHT BOURBON WHISKEY  21236    1792 Small Batch Bourbon  750ml  NaN   \n",
       "4  STRAIGHT BOURBON WHISKEY  21242    1792 Sweet Wheat Bourbon  750ml  NaN   \n",
       "\n",
       "   proof    price           alt_brand  \n",
       "0  125.0  $47.99      1792 full proof  \n",
       "1   88.9  $42.99     1792 finish port  \n",
       "2   98.6  $42.99   1792 barrel single  \n",
       "3   93.7  $33.99     1792 batch small  \n",
       "4   91.2  $39.99     1792 sweet wheat  "
      ]
     },
     "execution_count": 8,
     "metadata": {},
     "output_type": "execute_result"
    }
   ],
   "source": [
    "va_df['alt_brand'] = va_df['brand'].map(lambda x: my_va_transform(x))\n",
    "va_df.head()"
   ]
  },
  {
   "cell_type": "code",
   "execution_count": 9,
   "metadata": {
    "collapsed": true
   },
   "outputs": [],
   "source": [
    "def my_size_transform(s):\n",
    "    if 'ml' in s:\n",
    "        v = Volume(milliliter=s.replace('ml', ''))\n",
    "    elif 'L' in s:\n",
    "        v = Volume(liter=s.replace('L', ''))\n",
    "    return v.us_oz"
   ]
  },
  {
   "cell_type": "code",
   "execution_count": 10,
   "metadata": {
    "collapsed": false
   },
   "outputs": [],
   "source": [
    "va_df['oz'] = va_df['size'].map(lambda x: my_size_transform(x))\n",
    "va_df['alt_price'] = va_df['price'].str.replace('$', '')\n",
    "va_df['alt_age'] = va_df['age'].str.replace('YR', '')"
   ]
  },
  {
   "cell_type": "code",
   "execution_count": null,
   "metadata": {
    "collapsed": false
   },
   "outputs": [],
   "source": []
  },
  {
   "cell_type": "code",
   "execution_count": null,
   "metadata": {
    "collapsed": false
   },
   "outputs": [],
   "source": []
  },
  {
   "cell_type": "code",
   "execution_count": 11,
   "metadata": {
    "collapsed": false
   },
   "outputs": [],
   "source": [
    "w_archive = pd.read_csv('../data_source/reddit_archive.csv',\n",
    "                        names=['timestamp', 'whisky_name', 'reviewer_username', 'link',\n",
    "                               'rating', 'style', 'bottle_price', 'review_date'],\n",
    "                        skiprows=1,\n",
    "                        parse_dates=['timestamp', 'review_date'])"
   ]
  },
  {
   "cell_type": "code",
   "execution_count": 12,
   "metadata": {
    "collapsed": false
   },
   "outputs": [
    {
     "data": {
      "text/plain": [
       "timestamp            datetime64[ns]\n",
       "whisky_name                  object\n",
       "reviewer_username            object\n",
       "link                         object\n",
       "rating                      float64\n",
       "style                        object\n",
       "bottle_price                 object\n",
       "review_date          datetime64[ns]\n",
       "dtype: object"
      ]
     },
     "execution_count": 12,
     "metadata": {},
     "output_type": "execute_result"
    }
   ],
   "source": [
    "w_archive['rating'] = pd.to_numeric(w_archive['rating'], errors='coerce')\n",
    "#w_archive['bottle_price'] = pd.to_numeric(w_archive['bottle_price'], errors='coerce')\n",
    "w_archive['timestamp'] = pd.to_datetime(w_archive['timestamp'], errors='coerce')\n",
    "w_archive['review_date'] = pd.to_datetime(w_archive['review_date'], errors='coerce')\n",
    "w_archive['whisky_name'] = w_archive.whisky_name.str.lower()\n",
    "w_archive['style'] = w_archive['style'].str.lower()\n",
    "w_archive.dtypes"
   ]
  },
  {
   "cell_type": "code",
   "execution_count": 13,
   "metadata": {
    "collapsed": false
   },
   "outputs": [],
   "source": [
    "#w_archive.head(20)"
   ]
  },
  {
   "cell_type": "code",
   "execution_count": 14,
   "metadata": {
    "collapsed": false
   },
   "outputs": [],
   "source": [
    "fxrio = Fixerio(base='USD')\n",
    "conversion = fxrio.latest()\n",
    "import math\n",
    "\n",
    "def isnumber(num):\n",
    "    return all(char.isdigit() for char in num)\n",
    "\n",
    "def transform_currency(s):\n",
    "    if 'CAD' in str(s) or 'CDN' in str(s):\n",
    "        price = re.sub(r\"\"\"[^0-9]+\"\"\", '', s)\n",
    "        new_price = float(price) / float(conversion['rates']['CAD'])\n",
    "        return new_price\n",
    "    elif '£' in str(s) or 'GBP' in str(s):\n",
    "        price = re.sub(r\"\"\"[^0-9]+\"\"\", '', s)\n",
    "        new_price = float(price) / float(conversion['rates']['GBP'])\n",
    "        return new_price\n",
    "    elif 'AUD' in str(s) or 'AUS' in str(s):\n",
    "        price = re.sub(r\"\"\"[^0-9]+\"\"\", '', s)\n",
    "        new_price = float(price) / float(conversion['rates']['AUD'])\n",
    "        return new_price\n",
    "    elif 'NZD' in str(s):\n",
    "        price = re.sub(r\"\"\"[^0-9]+\"\"\", '', s)\n",
    "        new_price = float(price) / float(conversion['rates']['NZD'])\n",
    "        return new_price\n",
    "    elif 'EUR' in str(s) or '€' in str(s) or 'Euro' in str(s):\n",
    "        price = re.sub(r\"\"\"[^0-9]+\"\"\", '', s)\n",
    "        new_price = float(price) / float(conversion['rates']['EUR'])\n",
    "        return new_price\n",
    "    elif 'SEK' in str(s):\n",
    "        price = re.sub(r\"\"\"[^0-9]+\"\"\", '', s)\n",
    "        new_price = float(price) / float(conversion['rates']['SEK'])\n",
    "        return new_price\n",
    "    elif 'RMB' in str(s):\n",
    "        price = re.sub(r\"\"\"[^0-9]+\"\"\", '', s)\n",
    "        new_price = float(price) / float(conversion['rates']['CNY'])\n",
    "        return new_price\n",
    "    elif 'DKR' in str(s):\n",
    "        price = re.sub(r\"\"\"[^0-9]+\"\"\", '', s)\n",
    "        new_price = float(price) / float(conversion['rates']['DKK'])\n",
    "        return new_price\n",
    "    elif 'HKD' in str(s):\n",
    "        price = re.sub(r\"\"\"[^0-9]+\"\"\", '', s)\n",
    "        new_price = float(price) / float(conversion['rates']['HKD'])\n",
    "        return new_price\n",
    "    elif 'JPY' in str(s):\n",
    "        price = re.sub(r\"\"\"[^0-9]+\"\"\", '', s)\n",
    "        new_price = float(price) / float(conversion['rates']['JPY'])\n",
    "        return new_price\n",
    "    elif 'ZAR' in str(s):\n",
    "        price = re.sub(r\"\"\"[^0-9]+\"\"\", '', s)\n",
    "        new_price = float(price) / float(conversion['rates']['ZAR'])\n",
    "        return new_price\n",
    "    elif type(s) == str and isnumber(s):\n",
    "        # USD\n",
    "        return s\n",
    "    elif type(s) == float and math.isnan(s):\n",
    "        # NAN\n",
    "        return s\n",
    "    elif re.match(r\"\"\"^\\$*\\d+\\.*\\d+$\"\"\", s):\n",
    "        s = s.replace('$', '')\n",
    "        return s\n",
    "    else:\n",
    "        # Convert everything else to NAN\n",
    "        print(s)\n",
    "        return None"
   ]
  },
  {
   "cell_type": "code",
   "execution_count": 15,
   "metadata": {
    "collapsed": false
   },
   "outputs": [
    {
     "name": "stdout",
     "output_type": "stream",
     "text": [
      "55 CHF\n",
      "40 euro\n",
      "$40 USD\n",
      "$38 USD\n",
      "$60 USD\n",
      "$11 USD\n",
      "$50 USD\n",
      "$65 USD\n",
      "$270 ARS\n",
      "$87 USD\n"
     ]
    }
   ],
   "source": [
    "w_archive['alt_brand'] = w_archive['whisky_name'].map(lambda x: my_va_transform(x))\n",
    "w_archive['alt_bottle_price'] = w_archive['bottle_price'].map(lambda x: transform_currency(x))\n",
    "#w_archive.head(100)"
   ]
  },
  {
   "cell_type": "code",
   "execution_count": 16,
   "metadata": {
    "collapsed": false
   },
   "outputs": [],
   "source": [
    "va_new_brand = va_df['alt_brand'].tolist()\n",
    "wa_new_whisky = w_archive['alt_brand'].tolist()"
   ]
  },
  {
   "cell_type": "code",
   "execution_count": 17,
   "metadata": {
    "collapsed": false
   },
   "outputs": [
    {
     "name": "stdout",
     "output_type": "stream",
     "text": [
      "Matches: 240\n",
      "1 edition macallan\n",
      "10 bulleit\n",
      "10 cork west\n",
      "10 eagle rare\n",
      "10 fine macallan oak\n",
      "10 glenmorangie original the\n",
      "10 old rip van winkle\n",
      "101 turkey wild\n",
      "114 dad grand old\n",
      "12 balvenie doublewood\n",
      "12 beam jim signature\n",
      "12 bowmore\n",
      "12 bunnahabhain\n",
      "12 caol ila\n",
      "12 cask double macallan\n",
      "12 castle knappogue\n",
      "12 chivas regal\n",
      "12 craig elijah\n",
      "12 dalmore\n",
      "12 dewar reserve special\n",
      "12 dickel george\n",
      "12 glendronach\n",
      "12 glenfiddich\n",
      "12 glenlivet\n",
      "12 hibiki\n",
      "12 highland park\n",
      "12 jameson\n",
      "12 lagavulin\n",
      "12 macallan\n",
      "12 medley old\n",
      "12 tomatin\n",
      "12 yamazaki\n",
      "14 balvenie caribbean cask\n",
      "15 family pappy reserve van winkle\n",
      "15 fine macallan oak\n",
      "16 aberlour\n",
      "16 and barrel lock rye stock straight\n",
      "17 balvenie doublewood\n",
      "17 fine macallan oak\n",
      "1776 barrel e. james pepper proof rye\n",
      "1776 e. james pepper rye straight\n",
      "1783 evan williams\n",
      "1792 batch small\n",
      "1792 finish port\n",
      "1792 full proof\n",
      "1792 high rye\n",
      "1792 sweet wheat\n",
      "18 chivas regal\n",
      "18 glenlivet\n",
      "18 jameson\n",
      "18 laphroaig\n",
      "18 macallan\n",
      "18 oban\n",
      "18 talisker\n",
      "1843 david nicholson\n",
      "1870 forester old\n",
      "2 edition macallan\n",
      "2015 edition four limited roses\n",
      "2016 batch edition four limited roses small\n",
      "2016 birthday forester old\n",
      "21 archive glenlivet\n",
      "21 balvenie portwood\n",
      "21 bushmills\n",
      "21 rosebank\n",
      "25 highland park\n",
      "25 laphroaig\n",
      "25 talisker\n",
      "30 caol ila\n",
      "30 talisker\n",
      "40 lot\n",
      "46 maker mark\n",
      "6 reserve russell rye\n",
      "75th anniversary crown monarch royal\n",
      "8 dickel george\n",
      "8 islay mist\n",
      "8 lagavulin\n",
      "81 turkey wild\n",
      "age ancient\n",
      "american westland\n",
      "angel envy rye\n",
      "ardbeg auriverdes\n",
      "ardbeg committee cove dark release\n",
      "ardbeg corryvreckan\n",
      "ardbeg perpetuum\n",
      "auchentoshan three wood\n",
      "baby balcones blue\n",
      "baby hudson\n",
      "barrel barrel daniel jack proof single\n",
      "barrel beam jim single\n",
      "barrel creek forty select\n",
      "barrel creek knob reserve single\n",
      "barrel crown hand royal selected\n",
      "barrel daniel jack single\n",
      "barrel evan single williams\n",
      "barrel four roses single\n",
      "barrel michter rye strength\n",
      "barrel reserve russell rye single\n",
      "barrel reserve russell single\n",
      "barrel single wathen\n",
      "basil hayden\n",
      "batch craig elijah small\n",
      "batch four roses small\n",
      "batch hirsch reserve small\n",
      "batch jefferson small very\n",
      "batch michter small\n",
      "batch small teeling\n",
      "bay little oban\n",
      "beam black jim\n",
      "beam bonded jim\n",
      "beam choice jim\n",
      "beam cider hardcore jim red stag\n",
      "beam cinnamon jim red spiced stag with\n",
      "beam cut devil jim\n",
      "beam double jim oak\n",
      "beam honey jim\n",
      "beam jim\n",
      "beam jim red stag\n",
      "beam jim rye\n",
      "belle meade\n",
      "black bush bushmills\n",
      "black crown royal\n",
      "black double johnnie walker\n",
      "black evan williams\n",
      "black famous grouse smoky\n",
      "black grouse\n",
      "black johnnie walker\n",
      "black velvet\n",
      "black virginia\n",
      "blue johnnie walker\n",
      "booker\n",
      "booker rye\n",
      "bradan orach speyburn\n",
      "breckenridge\n",
      "breed rare turkey wild\n",
      "buffalo trace\n",
      "bulleit\n",
      "bulleit rye\n",
      "bunnahabhain toiteach\n",
      "canadian club\n",
      "canadian mist\n",
      "cask finish groth jefferson reserve\n",
      "cask glenrothes reserve\n",
      "cask glenrothes reserve sherry\n",
      "cask laphroaig quarter\n",
      "cask macallan rare\n",
      "cask maker mark strength\n",
      "catoctin creek roundstone rye\n",
      "chivas extra regal\n",
      "clan macgregor\n",
      "club haig\n",
      "cock fighting\n",
      "coffey grain nikka\n",
      "colorado stranahan\n",
      "comfort southern\n",
      "copper fox rye\n",
      "creek knob\n",
      "creek knob maple smoked\n",
      "creek knob rye\n",
      "crow old\n",
      "crow old reserve\n",
      "crown harvest northern royal rye\n",
      "crown reserve royal special\n",
      "crown royal\n",
      "crown seagram seven\n",
      "cutty sark\n",
      "d'or glenmorangie nectar\n",
      "dalwhinnie distiller edition\n",
      "daniel gentleman jack jack\n",
      "daniel honey jack\n",
      "dark highland origins park\n",
      "dead guy rogue\n",
      "defiant\n",
      "dew phoenix tullamore\n",
      "dew tullamore\n",
      "dewar highlander honey\n",
      "dewar white\n",
      "dickel george rye\n",
      "distiller edition talisker\n",
      "double high rye west\n",
      "double oaked reserve woodford\n",
      "early times\n",
      "edition fire highland park\n",
      "elmer lee t\n",
      "evan green williams\n",
      "famous grouse\n",
      "filibuster\n",
      "fill first glenlivet nadurra\n",
      "forester old\n",
      "forester old signature\n",
      "forgiven turkey wild\n",
      "founders glenlivet reserve\n",
      "four grain hudson\n",
      "gentleman virginia\n",
      "glenlivet nadurra oloroso\n",
      "glenmorangie lasanta\n",
      "glenmorangie milsean\n",
      "glenmorangie quinta ruban\n",
      "glenmorangie tusail\n",
      "glenrothes reserve vintage\n",
      "gold seagram vo\n",
      "green johnnie walker\n",
      "harmony hibiki\n",
      "harper i.w.\n",
      "highland malt virginia\n",
      "highland mcclelland\n",
      "horse white\n",
      "house of stuart\n",
      "hudson manhattan rye\n",
      "islay mcclelland\n",
      "james jesse original\n",
      "jameson\n",
      "jefferson reserve\n",
      "johnnie platinum walker\n",
      "johnnie red walker\n",
      "jr. stagg\n",
      "keep masters turkey wild\n",
      "kentucky spirit turkey wild\n",
      "kettle kopper\n",
      "kilbeggan\n",
      "laphroaig lore\n",
      "laphroaig select\n",
      "laphroaig triplewood\n",
      "lowland mcclelland\n",
      "maker mark\n",
      "man\n",
      "mash michter sour\n",
      "michter us*1\n",
      "monkey shoulder\n",
      "old overholt rye\n",
      "old smuggler\n",
      "passport\n",
      "prichard\n",
      "rebel yell\n",
      "reserve rye woodford\n",
      "rye templeton\n",
      "select yellowstone\n",
      "spiced turkey wild\n",
      "storm talisker\n",
      "suntory toki\n",
      "tconnell\n"
     ]
    }
   ],
   "source": [
    "exact_matches = set()\n",
    "for brand in va_new_brand:\n",
    "    if brand in wa_new_whisky:\n",
    "        exact_matches.add(brand)\n",
    "print('Matches: {}'.format(len(exact_matches)))\n",
    "exact_matches = list(exact_matches)\n",
    "exact_matches.sort()\n",
    "print('\\n'.join(exact_matches))"
   ]
  },
  {
   "cell_type": "code",
   "execution_count": 18,
   "metadata": {
    "collapsed": false
   },
   "outputs": [],
   "source": [
    "# for brand in va_new_brand:\n",
    "#     matches = process.extract(brand, wa_new_whisky)\n",
    "#     if matches[0][1] != 100:\n",
    "#         print(brand, matches[0])"
   ]
  },
  {
   "cell_type": "code",
   "execution_count": 19,
   "metadata": {
    "collapsed": false
   },
   "outputs": [],
   "source": [
    "#va_df[va_df['new_brand'].str.contains('james')]"
   ]
  },
  {
   "cell_type": "code",
   "execution_count": 20,
   "metadata": {
    "collapsed": false
   },
   "outputs": [],
   "source": [
    "#w_archive[w_archive['new_whisky_name'].str.contains('stag')]"
   ]
  },
  {
   "cell_type": "code",
   "execution_count": 21,
   "metadata": {
    "collapsed": false
   },
   "outputs": [],
   "source": [
    "#va_df.to_csv('data_transformed/va_prices.csv', index=False)"
   ]
  },
  {
   "cell_type": "code",
   "execution_count": 22,
   "metadata": {
    "collapsed": true
   },
   "outputs": [],
   "source": [
    "#w_archive.to_csv('data_transformed/reddit_archive.csv', index=False)"
   ]
  },
  {
   "cell_type": "markdown",
   "metadata": {
    "collapsed": true
   },
   "source": [
    "## Whisky Critic Matching"
   ]
  },
  {
   "cell_type": "code",
   "execution_count": 23,
   "metadata": {
    "collapsed": false
   },
   "outputs": [],
   "source": [
    "def my_wc_transform(s):\n",
    "    \"\"\"Function to transform brand\n",
    "    * make lower\n",
    "    * remove product types ex: 'bourbon', 'whiskey'\n",
    "    \"\"\"\n",
    "\n",
    "    \n",
    "    replacements = {\"yo\\W\": \" \",\n",
    "                    \"^prichard’s rye$\": \" prichard \",\n",
    "                    \"^reserve rye straight woodford$\": \"reserve rye woodford\",\n",
    "                    \"^kentucky rebel yell\": \"rebel yell\",\n",
    "                    \"laphroaig triple wood\": \"laphroaig triplewood\",\n",
    "                    \"barrel four roses single\": \"four roses\",\n",
    "                    \"founder glenlivet reserve\": \"founders glenlivet reserve\",\n",
    "                    \"founder’s irishman reserve\": \"founders irishman reserve\",\n",
    "                    \"carribean\": \"caribbean\",\n",
    "                    \"12 glendronach original\": \"12 glendronach\",\n",
    "                    \"dalwhinnie distillers edition\": \"dalwhinnie distiller edition\",\n",
    "                    \"all distiller edition editions glenkinchie\": \"distiller edition glenkinchie\",\n",
    "                    \"dalwhinnie distillers edition\": \"dalwhinnie distiller edition\",\n",
    "                    \"ardbeg uigeadail\": \"ardbeg uigeadall\",\n",
    "                    \"all daniel distiller jack master series\": \"daniel distiller jack master\",\n",
    "                    \"21 balvenie port wood\": \"21 balvenie portwood\",\n",
    "                    \"21 fine macallan oak\": \"21 fine macallan oak old\",\n",
    "                    \"american auchentoshan oak\": \"american auchentosahn oak\",\n",
    "                    \"basil haydens kentucky\": \"basil hayden\",\n",
    "                    \"2016 cairdeas laphroaig madeira\": \"cairdeas laphroaig madeira\",\n",
    "                    \"cooper croze jameson\": \"cooper croze\",\n",
    "                    \"all distillers edition oban vintages\": \"distillers edition oban\",\n",
    "                    \"16 glenlivet nadurra\": \"glenlivet nadurra\",\n",
    "                    \"all midleton rare very vintages\": \"midleton rare\",\n",
    "                    \"mortlach old rare\": \"mortlach rare\",\n",
    "                    \"and rare rich\": \"rare rich\",\n",
    "                    \"high redemption rye\": \"redemption rye\",\n",
    "                    \"1792 finished port\": \"1792 finish port\",\n",
    "                    }\n",
    "    for k, v in replacements.items():\n",
    "        s = re.sub(k, v, s)\n",
    "    \n",
    "    replace = [\"nas\", ]\n",
    "    \n",
    "    for item in replace:\n",
    "        s = s.replace(item, '')\n",
    "    \n",
    "    s = s.split() # remove extra spaces between words\n",
    "    s.sort()\n",
    "    s = \" \".join(s)\n",
    "    \n",
    "    return s.strip()"
   ]
  },
  {
   "cell_type": "code",
   "execution_count": 24,
   "metadata": {
    "collapsed": false
   },
   "outputs": [
    {
     "data": {
      "text/plain": [
       "'12 best my scotch'"
      ]
     },
     "execution_count": 24,
     "metadata": {},
     "output_type": "execute_result"
    }
   ],
   "source": [
    "my_wc_transform('my best 12yo scotch')"
   ]
  },
  {
   "cell_type": "code",
   "execution_count": 25,
   "metadata": {
    "collapsed": true
   },
   "outputs": [],
   "source": [
    "wc_df = pd.read_csv('../data_source/Meta-Critic Whisky Database.csv')\n",
    "wc_df.columns = wc_df.columns.str.lower().str.replace(' ', '_')"
   ]
  },
  {
   "cell_type": "code",
   "execution_count": 26,
   "metadata": {
    "collapsed": false
   },
   "outputs": [],
   "source": [
    "wc_df['alt_brand'] = wc_df['whisky'].map(lambda x: my_va_transform(x))\n",
    "wc_df['alt_brand'] = wc_df['alt_brand'].map(lambda x: my_wc_transform(x))"
   ]
  },
  {
   "cell_type": "code",
   "execution_count": 27,
   "metadata": {
    "collapsed": false
   },
   "outputs": [],
   "source": [
    "wc_new_whisky = wc_df['alt_brand'].tolist()"
   ]
  },
  {
   "cell_type": "code",
   "execution_count": 28,
   "metadata": {
    "collapsed": false
   },
   "outputs": [
    {
     "name": "stdout",
     "output_type": "stream",
     "text": [
      "Matches: 162\n",
      "1 edition macallan\n",
      "10 bulleit\n",
      "10 eagle rare\n",
      "10 fine macallan oak\n",
      "10 old rip van winkle\n",
      "101 turkey wild\n",
      "114 dad grand old\n",
      "12 balvenie barrel single\n",
      "12 balvenie doublewood\n",
      "12 bowmore\n",
      "12 bunnahabhain\n",
      "12 caol ila\n",
      "12 cask double macallan\n",
      "12 castle knappogue\n",
      "12 chivas regal\n",
      "12 craig elijah\n",
      "12 dalmore\n",
      "12 dickel george\n",
      "12 glendronach\n",
      "12 glenfiddich\n",
      "12 glenlivet\n",
      "12 hibiki\n",
      "12 tomatin\n",
      "12 yamazaki\n",
      "14 balvenie caribbean cask\n",
      "15 family pappy reserve van winkle\n",
      "15 fine macallan oak\n",
      "150th anniversary daniel jack\n",
      "17 balvenie doublewood\n",
      "17 fine macallan oak\n",
      "1792 barrel single\n",
      "1792 finish port\n",
      "1792 full proof\n",
      "1792 sweet wheat\n",
      "18 chivas regal\n",
      "18 glenlivet\n",
      "18 laphroaig\n",
      "18 oban\n",
      "18 talisker\n",
      "2 edition macallan\n",
      "2 gingers\n",
      "21 ardbeg\n",
      "21 balvenie portwood\n",
      "21 bushmills\n",
      "21 fine macallan oak old\n",
      "25 cragganmore\n",
      "25 highland park\n",
      "25 laphroaig\n",
      "25 talisker\n",
      "30 caol ila\n",
      "30 fine macallan oak\n",
      "30 talisker\n",
      "40 lot\n",
      "46 maker mark\n",
      "6 reserve russell rye\n",
      "75th anniversary crown monarch royal\n",
      "8 islay mist\n",
      "8 lagavulin\n",
      "81 rye turkey wild\n",
      "81 turkey wild\n",
      "aged at jefferson ocean sea\n",
      "alberta batch dark rye\n",
      "american auchentosahn oak\n",
      "american high prairie west\n",
      "american westland\n",
      "ardbeg auriverdes\n",
      "ardbeg corryvreckan\n",
      "ardbeg perpetuum\n",
      "ardbeg uigeadall\n",
      "auchentoshan three wood\n",
      "baby balcones blue\n",
      "barrel blanton single\n",
      "barrel creek forty select\n",
      "barrel creek knob reserve single\n",
      "barrel crown hand royal selected\n",
      "barrel daniel jack single\n",
      "barrel evan single williams\n",
      "barrel michter rye strength\n",
      "barrel reserve russell single\n",
      "basil hayden\n",
      "batch four roses small\n",
      "batch jefferson small very\n",
      "batch michter small\n",
      "bay little oban\n",
      "beam black jim\n",
      "beam cut devil jim\n",
      "beam jim rye\n",
      "black bush bushmills\n",
      "black crown royal\n",
      "black double johnnie walker\n",
      "black evan williams\n",
      "black johnnie walker\n",
      "blue johnnie walker\n",
      "booker rye\n",
      "breed rare turkey wild\n",
      "buffalo trace\n",
      "bulleit\n",
      "bulleit rye\n",
      "bunnahabhain toiteach\n",
      "cairdeas laphroaig madeira\n",
      "canadian mist\n",
      "cask glenrothes reserve\n",
      "cask glenrothes reserve sherry\n",
      "cask laphroaig quarter\n",
      "cask maker mark strength\n",
      "caskmates jameson\n",
      "coffey grain nikka\n",
      "colorado stranahan\n",
      "cooper croze\n",
      "crown harvest northern royal rye\n",
      "crown royal\n",
      "crown royal xo\n",
      "cutty prohibition sark\n",
      "cutty sark\n",
      "d'or glenmorangie nectar\n",
      "dalwhinnie distiller edition\n",
      "daniel distiller jack master\n",
      "daniel gentleman jack jack\n",
      "dark highland origins park\n",
      "dewar white\n",
      "dickel george rye\n",
      "distiller edition glenkinchie\n",
      "distillers edition oban\n",
      "double high rye west\n",
      "double oaked reserve woodford\n",
      "famous grouse\n",
      "forester old\n",
      "founders glenlivet reserve\n",
      "founders man reserve\n",
      "four roses\n",
      "glenlivet nadurra\n",
      "glenlivet nadurra oloroso\n",
      "glenmorangie lasanta\n",
      "glenmorangie milsean\n",
      "glenmorangie quinta ruban\n",
      "glenmorangie tusail\n",
      "glenrothes reserve vintage\n",
      "gold johnnie reserve walker\n",
      "green johnnie walker\n",
      "harmony hibiki\n",
      "jameson\n",
      "johnnie platinum walker\n",
      "johnnie red walker\n",
      "laphroaig lore\n",
      "laphroaig select\n",
      "laphroaig triplewood\n",
      "maker mark\n",
      "man\n",
      "mash michter sour\n",
      "midleton rare\n",
      "monkey shoulder\n",
      "mortlach rare\n",
      "rare rich\n",
      "rebel yell\n",
      "redemption rye\n",
      "reserve rye woodford\n",
      "reserve woodford\n",
      "rye templeton\n",
      "seagram vo\n",
      "storm talisker\n",
      "suntory toki\n",
      "tconnell\n"
     ]
    }
   ],
   "source": [
    "exact_matches = set()\n",
    "for brand in va_new_brand:\n",
    "    if brand in wc_new_whisky:\n",
    "        exact_matches.add(brand)\n",
    "print('Matches: {}'.format(len(exact_matches)))\n",
    "exact_matches = list(exact_matches)\n",
    "exact_matches.sort()\n",
    "print('\\n'.join(exact_matches))"
   ]
  },
  {
   "cell_type": "code",
   "execution_count": 29,
   "metadata": {
    "collapsed": false
   },
   "outputs": [],
   "source": [
    "# va_set = set(va_new_brand)\n",
    "# va_set = list(va_set)\n",
    "# va_set.sort()\n",
    "# for brand in va_set:\n",
    "#     matches = process.extract(brand, wc_new_whisky)\n",
    "#     if matches[0][1] >= 90 and matches[0][1] < 100:\n",
    "#         print(brand, matches[0])"
   ]
  },
  {
   "cell_type": "code",
   "execution_count": 30,
   "metadata": {
    "collapsed": true
   },
   "outputs": [],
   "source": [
    "#wc_df.to_csv('data_transformed/meta_critic.csv', index=False)"
   ]
  },
  {
   "cell_type": "markdown",
   "metadata": {},
   "source": [
    "## Proof 66 matching"
   ]
  },
  {
   "cell_type": "code",
   "execution_count": 31,
   "metadata": {
    "collapsed": false
   },
   "outputs": [],
   "source": [
    "def my_proof_transform(s):\n",
    "    \"\"\"Function to transform brand\n",
    "    * make lower\n",
    "    * remove product types ex: 'bourbon', 'whiskey'\n",
    "    \"\"\"\n",
    "\n",
    "    \n",
    "    replacements = {\"101 8 turkey wild\": \"101 turkey wild\",\n",
    "                    \"114 dad grand old proof\": \"114 dad grand old\",\n",
    "                    \"81 turkey wild\": \"81 rye turkey wild\",\n",
    "                   }\n",
    "    for k, v in replacements.items():\n",
    "        s = re.sub(k, v, s)\n",
    "    \n",
    "    replace = [ ]\n",
    "    \n",
    "    for item in replace:\n",
    "        s = s.replace(item, '')\n",
    "    \n",
    "    s = s.split() # remove extra spaces between words\n",
    "    s.sort()\n",
    "    s = \" \".join(s)\n",
    "    \n",
    "    return s.strip()"
   ]
  },
  {
   "cell_type": "code",
   "execution_count": 32,
   "metadata": {
    "collapsed": false
   },
   "outputs": [],
   "source": [
    "proof_df = pd.read_csv('../data_source/proof66.csv')\n",
    "proof_df.columns = proof_df.columns.str.lower().str.replace(' ', '_')"
   ]
  },
  {
   "cell_type": "code",
   "execution_count": 33,
   "metadata": {
    "collapsed": false
   },
   "outputs": [],
   "source": [
    "proof_df['alt_brand'] = proof_df['name'].map(lambda x: my_va_transform(x))\n",
    "proof_df['alt_brand'] = proof_df['alt_brand'].map(lambda x: my_proof_transform(x))"
   ]
  },
  {
   "cell_type": "code",
   "execution_count": 34,
   "metadata": {
    "collapsed": true
   },
   "outputs": [],
   "source": [
    "proof_new_whisky = proof_df['alt_brand'].tolist()"
   ]
  },
  {
   "cell_type": "code",
   "execution_count": 35,
   "metadata": {
    "collapsed": false
   },
   "outputs": [
    {
     "name": "stdout",
     "output_type": "stream",
     "text": [
      "Matches: 79\n",
      "10 cork west\n",
      "10 eagle rare\n",
      "101 turkey wild\n",
      "12 aberlour\n",
      "12 beam jim signature\n",
      "12 bunnahabhain\n",
      "12 caol ila\n",
      "12 dalmore\n",
      "12 glenfiddich\n",
      "12 jameson\n",
      "12 medley old\n",
      "12 tomatin\n",
      "15 balvenie cask sherry\n",
      "16 aberlour\n",
      "17 fine macallan oak\n",
      "1792 batch small\n",
      "1792 finish port\n",
      "18 chivas regal\n",
      "18 macallan\n",
      "18 talisker\n",
      "21 bushmills\n",
      "25 highland park\n",
      "30 macallan oak sherry\n",
      "30 talisker\n",
      "8 islay mist\n",
      "8 lagavulin\n",
      "81 rye turkey wild\n",
      "apple beam jim\n",
      "apple bird dog\n",
      "ardbeg corryvreckan\n",
      "baby hudson\n",
      "baron kaine robber rye virgil\n",
      "barrel black jameson\n",
      "barrel cork proof west\n",
      "barrel crown hand royal selected\n",
      "bay little oban\n",
      "beam choice jim\n",
      "beam double jim oak\n",
      "beam honey jim red stag tea\n",
      "beam jim rye\n",
      "bird cinnamon dog\n",
      "bird dog\n",
      "bird dog maple\n",
      "black cleveland reserve\n",
      "black crown royal\n",
      "black johnnie walker\n",
      "bradan orach speyburn\n",
      "breed rare turkey wild\n",
      "bushmills\n",
      "cabin fever flavored maple\n",
      "calumet farm\n",
      "cask dual filibuster rye\n",
      "cask laphroaig quarter\n",
      "cinnamon early eater fire times\n",
      "copper fox rye\n",
      "creek knob rye\n",
      "daniel gentleman jack jack\n",
      "defiant\n",
      "dew phoenix tullamore\n",
      "dickel george rye\n",
      "double high rye west\n",
      "dubliner\n",
      "elmer lee t\n",
      "evan green williams\n",
      "four grain hudson\n",
      "four roses\n",
      "green johnnie walker\n",
      "harmony hibiki\n",
      "jameson\n",
      "kentucky tavern\n",
      "lexington\n",
      "man\n",
      "pineapple revel roasted stoke\n",
      "rebel yell\n",
      "redemption rye\n",
      "rye templeton\n",
      "select yellowstone\n",
      "spiced turkey wild\n",
      "storm talisker\n"
     ]
    }
   ],
   "source": [
    "exact_matches = set()\n",
    "for brand in va_new_brand:\n",
    "    if brand in proof_new_whisky:\n",
    "        exact_matches.add(brand)\n",
    "print('Matches: {}'.format(len(exact_matches)))\n",
    "exact_matches = list(exact_matches)\n",
    "exact_matches.sort()\n",
    "print('\\n'.join(exact_matches))"
   ]
  },
  {
   "cell_type": "code",
   "execution_count": 36,
   "metadata": {
    "collapsed": false
   },
   "outputs": [],
   "source": [
    "# va_set = set(va_new_brand)\n",
    "# va_set = list(va_set)\n",
    "# va_set.sort()\n",
    "# for brand in va_set:\n",
    "#     matches = process.extract(brand, proof_new_whisky)\n",
    "#     if matches[0][1] >= 80 and matches[0][1] < 100:\n",
    "#         print(brand, matches[0])"
   ]
  },
  {
   "cell_type": "code",
   "execution_count": 711,
   "metadata": {
    "collapsed": true
   },
   "outputs": [],
   "source": [
    "proof_df.to_csv('data_transformed/proof66.csv', index=False)"
   ]
  },
  {
   "cell_type": "code",
   "execution_count": null,
   "metadata": {
    "collapsed": true
   },
   "outputs": [],
   "source": []
  }
 ],
 "metadata": {
  "kernelspec": {
   "display_name": "Python 3",
   "language": "python",
   "name": "python3"
  },
  "language_info": {
   "codemirror_mode": {
    "name": "ipython",
    "version": 3
   },
   "file_extension": ".py",
   "mimetype": "text/x-python",
   "name": "python",
   "nbconvert_exporter": "python",
   "pygments_lexer": "ipython3",
   "version": "3.6.0"
  }
 },
 "nbformat": 4,
 "nbformat_minor": 2
}
