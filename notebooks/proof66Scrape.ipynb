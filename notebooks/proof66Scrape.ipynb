{
 "cells": [
  {
   "cell_type": "code",
   "execution_count": 1,
   "metadata": {
    "collapsed": true
   },
   "outputs": [],
   "source": [
    "# Import required modules\n",
    "import requests\n",
    "from bs4 import BeautifulSoup\n",
    "import csv"
   ]
  },
  {
   "cell_type": "code",
   "execution_count": 2,
   "metadata": {
    "collapsed": true
   },
   "outputs": [],
   "source": [
    "# Create a variable with the URL to this tutorial\n",
    "urls = ['http://www.proof66.com/liquor/american-whiskey.html',\n",
    "        'http://www.proof66.com/liquor/canadian-whisky.html',\n",
    "        'http://www.proof66.com/liquor/irish-whiskey.html',\n",
    "        'http://www.proof66.com/liquor/international-whisky.html',\n",
    "        'http://www.proof66.com/liquor/scotch-whisky.html']\n",
    "\n",
    "final_rows = []\n"
   ]
  },
  {
   "cell_type": "code",
   "execution_count": 3,
   "metadata": {
    "collapsed": false
   },
   "outputs": [],
   "source": [
    "for url in urls:\n",
    "    # Scrape the HTML at the url\n",
    "    r = requests.get(url)\n",
    "\n",
    "    # Turn the HTML into a Beautiful Soup object\n",
    "    soup = BeautifulSoup(r.text, 'html5lib')\n",
    "\n",
    "    category_grid = soup.find_all(\"section\", {\"id\": \"categorygrid\"})\n",
    "    section = category_grid[0].select(\"div[class=row]\")\n",
    "    headers = [\"Name\", \"Rating\", \"Rabble\", \"Price\"]\n",
    "\n",
    "    for s in range(len(section)):\n",
    "        cells = section[s].find_all(\"span\", {\"class\": \"font14s480\"})\n",
    "        name = cells[0].get_text()\n",
    "        rating = cells[1].get_text()\n",
    "        rabble = cells[2].get_text()\n",
    "        price = cells[3].get_text()\n",
    "        final_rows.append([name, rating, rabble, price])\n"
   ]
  },
  {
   "cell_type": "code",
   "execution_count": 4,
   "metadata": {
    "collapsed": false
   },
   "outputs": [],
   "source": [
    "with open('proof66.csv', 'w') as f:\n",
    "    writer = csv.writer(f)\n",
    "    writer.writerow(headers)\n",
    "    for row in final_rows:\n",
    "        writer.writerow(row)"
   ]
  },
  {
   "cell_type": "code",
   "execution_count": null,
   "metadata": {
    "collapsed": true
   },
   "outputs": [],
   "source": []
  }
 ],
 "metadata": {
  "anaconda-cloud": {},
  "kernelspec": {
   "display_name": "Python 3",
   "language": "python",
   "name": "python3"
  },
  "language_info": {
   "codemirror_mode": {
    "name": "ipython",
    "version": 3
   },
   "file_extension": ".py",
   "mimetype": "text/x-python",
   "name": "python",
   "nbconvert_exporter": "python",
   "pygments_lexer": "ipython3",
   "version": "3.6.0"
  }
 },
 "nbformat": 4,
 "nbformat_minor": 1
}
